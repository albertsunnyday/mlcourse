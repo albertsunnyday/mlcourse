{
  "cells": [
    {
      "cell_type": "markdown",
      "metadata": {
        "id": "SDhaTqxcWhnP"
      },
      "source": [
        "В цьому домашньому завданні відпрацюємо з вами знання, отримані в модулі зі статистики.\n",
        "\n",
        "**Завдання 1.** Ми обговорили з Вами на лекції, що велика літера Сігма грецького алфавіту позначає в математиці суму. Знайдіть з використанням Python $\\Sigma x$, $\\Sigma x^2$, та $\\Sigma (x-1)^2$ для наступного набору даних:\n",
        "`1 3 4`\n",
        "Виведіть результат кожного обчислення на екран."
      ]
    },
    {
      "cell_type": "code",
      "execution_count": 83,
      "metadata": {
        "id": "B1mgx_IBT0e8"
      },
      "outputs": [
        {
          "name": "stdout",
          "output_type": "stream",
          "text": [
            "6\n",
            "14\n",
            "5\n"
          ]
        }
      ],
      "source": [
        "my_list = [1, 2, 3]\n",
        "print(sum(my_list))\n",
        "print(sum([x**2 for x in my_list]))\n",
        "print(sum([(x-1)**2 for x in my_list]))"
      ]
    },
    {
      "cell_type": "markdown",
      "metadata": {
        "id": "fa78aW5lhiia"
      },
      "source": [
        "**Завдання 2.** Ми зібрали дані про суму покупок в гривнях 20ма випадково обраними клієнтами в нашому магазині (всього клієнтів у нас більше) за минулий місяць. Вони представлені в змінній `sum_purchases`. Знайдіть **вибіркове середнє** для цих даних кожним з зазначених методів:   \n",
        "\n",
        "  2.1. без використання жодних бібліотек, користуючись тільки Python.  \n",
        "  2.2. використовуючи відповідний метод бібліотеки `numpy`.\n",
        "\n",
        "  Виведіть результат обчислень в кожному з випадків на екран та порівняйте результати. Вони співпадають?"
      ]
    },
    {
      "cell_type": "code",
      "execution_count": 84,
      "metadata": {
        "id": "_9kMt3rq6V5m"
      },
      "outputs": [],
      "source": [
        "sum_purchases = [ 316,  493,  367,  153,  224,  121,  322,  450,  196,  397,  281,\n",
        "  239,  484,  124,  223,  448,  432,  255, 4310, 3524]"
      ]
    },
    {
      "cell_type": "code",
      "execution_count": 85,
      "metadata": {
        "id": "wPmL919HT1c0"
      },
      "outputs": [
        {
          "name": "stdout",
          "output_type": "stream",
          "text": [
            "667.95\n",
            "667.95\n"
          ]
        }
      ],
      "source": [
        "import numpy as np\n",
        "print(sum(sum_purchases)/len(sum_purchases)) # 2.1.\n",
        "print(np.mean(sum_purchases)) # 2.2."
      ]
    },
    {
      "cell_type": "markdown",
      "metadata": {
        "id": "FMdoxZd0kZdW"
      },
      "source": [
        "**Завдання 3.** Для того ж набору даних в змінній `sum_purchases` обчисліть **медіану** кожним з зазначених методів:  \n",
        "\n",
        "  3.1. без використання жодних бібліотек, користуючись тільки Python.  \n",
        "  3.2. використовуючи відповідний метод бібліотеки numpy.  \n",
        "\n",
        "Виведіть результат обчислень в кожному з випадків на екран. Порівняйте результати зі значенням вибіркового середнього. Напишіть коментар, для яких задач ви б використовували вибіркове середнє, а для яких - медіану?"
      ]
    },
    {
      "cell_type": "code",
      "execution_count": 86,
      "metadata": {
        "id": "x58BumvuT2nl"
      },
      "outputs": [
        {
          "name": "stdout",
          "output_type": "stream",
          "text": [
            "319.0\n",
            "319.0\n"
          ]
        }
      ],
      "source": [
        "sorted_sum_purchases = sorted(sum_purchases)\n",
        "# 3.1.\n",
        "median = sorted_sum_purchases[len(sum_purchases)//2] if len(sum_purchases) % 2 else (sorted_sum_purchases[len(sum_purchases)//2-1] + sorted_sum_purchases[len(sum_purchases)//2]) / 2\n",
        "print(median)\n",
        "# 3.2.\n",
        "print(np.median(sum_purchases))\n",
        "\n"
      ]
    },
    {
      "cell_type": "markdown",
      "metadata": {
        "id": "o1Z7az2yNDQV"
      },
      "source": [
        "**Завдання 4**. Обчислість стандартне відхилення наведеної вибірки в змінній `sum_purchases` кожним з зазначених методів:  \n",
        "\n",
        "  4.1. без використання жодних бібліотек, користуючись тільки Python.  \n",
        "  4.2. використовуючи відповідний метод бібліотеки numpy.  \n",
        "\n",
        "Виведіть результат обчислень в кожному з випадків на екран."
      ]
    },
    {
      "cell_type": "code",
      "execution_count": 87,
      "metadata": {
        "id": "X4ixtmL2T642"
      },
      "outputs": [
        {
          "name": "stdout",
          "output_type": "stream",
          "text": [
            "1096.0692713054227 1124.5433447451132\n",
            "1096.0692713054227 1124.5433447451132\n"
          ]
        }
      ],
      "source": [
        "# 4.1.\n",
        "purchase_mean = sum(sum_purchases)/len(sum_purchases)\n",
        "purchase_minus_mean = [(i - purchase_mean)**2 for i in sum_purchases]\n",
        "std_purchase_general = np.sqrt(sum(purchase_minus_mean)/len(sum_purchases))\n",
        "std_purchase_sample = np.sqrt(sum(purchase_minus_mean)/(len(sum_purchases) - 1))\n",
        "print(std_purchase_general, std_purchase_sample)\n",
        "\n",
        "# 4.2.\n",
        "print(np.std(sum_purchases), np.std(sum_purchases, ddof=1))"
      ]
    },
    {
      "cell_type": "markdown",
      "metadata": {
        "id": "M1ntKTjXLVlH"
      },
      "source": [
        "**Завдання 5**. Ми провели дослідження віку студентів-першокурсників. Виявилось, що\n",
        "- 10 студентів мають вік 16 років\n",
        "- 25 студентів - 17 років\n",
        "- 20 студентів - 18 років\n",
        "- 2 студенти - 20 років\n",
        "\n",
        "Обчислість середнє значення для цієї вибірки будь-яким способом - на чистому Python або з numpy - та виведіть результат на екран."
      ]
    },
    {
      "cell_type": "code",
      "execution_count": 88,
      "metadata": {
        "id": "RdIU4M-7T8R4"
      },
      "outputs": [
        {
          "data": {
            "text/plain": [
              "np.float64(17.280701754385966)"
            ]
          },
          "execution_count": 88,
          "metadata": {},
          "output_type": "execute_result"
        }
      ],
      "source": [
        "import numpy as np\n",
        "sample = [16]*10 + [17]*25 + [18]*20 + [20]*2\n",
        "np.mean(sample)"
      ]
    },
    {
      "cell_type": "markdown",
      "metadata": {
        "id": "Xx8MFkkVM53z"
      },
      "source": [
        "**Завдання 6**. Крім даних про суму покупок, ми зібрали ще дані про кількість відвідувань кожного з кожного покупця, які знаходяться в змінній `visits`. Обчисліть коефіцієнт кореляції Пірсона для суми покупок і кількості відвідувань кожним з зазначених методів:  \n",
        "\n",
        "  6.1. без використання жодних бібліотек, користуючись тільки Python.  \n",
        "  6.2. використовуючи відповідний метод бібліотеки numpy.  \n",
        "  \n",
        "Виведіть результат на екран. Проаналізуйте результат.\n",
        "\n",
        "Виведіть додатково графік розсіювання викликавши код нижче і зробіть заключення, чи варто щось змінити при підрахунку кореляції, аби коефіцієнт Пірсона показував коректну оцінку лінійної залежності?"
      ]
    },
    {
      "cell_type": "code",
      "execution_count": 89,
      "metadata": {
        "id": "4OIGBT7UOWhO"
      },
      "outputs": [
        {
          "name": "stdout",
          "output_type": "stream",
          "text": [
            "Pearson corrcoef: -0.3026584468766646\n",
            "Pearson corrcoef in numpy: -0.3026584468766646\n",
            "# without outliers: -0.3685212078127798\n",
            "sum_purchases: [316, 493, 367, 153, 224, 121, 322, 450, 196, 397, 281, 239, 484, 124, 223, 448, 432, 255, 4310, 3524]\n",
            "visits: [6, 2, 10, 3, 9, 9, 2, 3, 6, 6, 10, 2, 5, 10, 3, 5, 4, 7, 4, 2]\n",
            "\n",
            "        The negative result (-0.30) describes a weak negative linear relationship.\n",
            "        \n",
            "        With or without outliers, both values are negative, meaning that as the number of visits increases, the total purchase amount tends to decrease slightly — contrary to intuition.\n",
            "\n",
            "        This suggests that users who visit more often don’t necessarily spend more overall — possibly:\n",
            "\n",
            "        - Making frequent small purchases,\n",
            "\n",
            "        - Browsing more without buying much,\n",
            "\n",
            "        - Or having a different buying behavior altogether.\n",
            "\n",
            "\n"
          ]
        }
      ],
      "source": [
        "visits = [ 6,  2, 10,  3,  9,  9,  2,  3,  6,  6, 10,  2,  5, 10,  3,  5,  4,\n",
        "        7,  4,  2]\n",
        "\n",
        "# 6.1.\n",
        "\n",
        "visit_mean = sum(visits)/len(visits)\n",
        "visit_minus_mean = [(i - visit_mean)**2 for i in visits]\n",
        "std_visit_sample = np.sqrt(sum(visit_minus_mean)/(len(visits) - 1))\n",
        "\n",
        "purchase_visit = [(sum_purchases[i] - purchase_mean)*(visits[i] - visit_mean) for i in range(len(visits))]\n",
        "cov = sum(purchase_visit)/(len(visits)-1)\n",
        "\n",
        "corrcoef = cov / (std_purchase_sample * std_visit_sample)\n",
        "\n",
        "print(f\"Pearson corrcoef: {corrcoef}\")\n",
        "\n",
        "# 6.2.\n",
        "\n",
        "print(f\"Pearson corrcoef in numpy: {np.corrcoef(sum_purchases, visits)[0,1]}\")\n",
        "print(f\"# without outliers: {np.corrcoef(sum_purchases[:-2], visits[:-2])[0,1]}\") \n",
        "print(f\"sum_purchases: {sum_purchases}\")\n",
        "print(f\"visits: {visits}\")\n",
        "\n",
        "desc = \"\"\"\n",
        "        The negative result (-0.30) describes a weak negative linear relationship.\n",
        "        \n",
        "        With or without outliers, both values are negative, meaning that as the number of visits increases, the total purchase amount tends to decrease slightly — contrary to intuition.\n",
        "\n",
        "        This suggests that users who visit more often don’t necessarily spend more overall — possibly:\n",
        "\n",
        "        - Making frequent small purchases,\n",
        "\n",
        "        - Browsing more without buying much,\n",
        "\n",
        "        - Or having a different buying behavior altogether.\n",
        "\n",
        "\"\"\"\n",
        "print(desc)\n"
      ]
    },
    {
      "cell_type": "code",
      "execution_count": null,
      "metadata": {
        "id": "YLNF7VbeT97Q"
      },
      "outputs": [],
      "source": []
    },
    {
      "cell_type": "code",
      "execution_count": 90,
      "metadata": {
        "colab": {
          "base_uri": "https://localhost:8080/",
          "height": 472
        },
        "id": "gaeoGA-5Prr1",
        "outputId": "0c910a7f-0e96-449a-881d-1efa453b3c8d"
      },
      "outputs": [
        {
          "data": {
            "image/png": "[encoded data removed]",
            "text/plain": [
              "<Figure size 640x480 with 1 Axes>"
            ]
          },
          "metadata": {},
          "output_type": "display_data"
        }
      ],
      "source": [
        "import matplotlib.pyplot as plt\n",
        "\n",
        "plt.scatter(sum_purchases, visits)\n",
        "plt.title('Scatter Plot of Purchases vs. Visits')\n",
        "plt.xlabel('Sum of Purchases')\n",
        "plt.ylabel('Number of Visits');"
      ]
    },
    {
      "cell_type": "markdown",
      "metadata": {
        "id": "4pEg0KzSQ6KA"
      },
      "source": [
        "**Завдання 7**. В попередньому завданні ми помітили, що викиди нам заважають отримати \"правдиве\" значення кореляції. Давайте вилучимо записи, які відповідають значенням з викидами в сумі покупок і обчисліть коеф. кореляції. Для цього поставте `threshold`, який дорінює середньому значенню + 2 стандартних вдіхилля суми покупок і всі значення, які більше за нього, будемо вважати викидами (є і інші правила для визначення викидів - з ним и познайомимось пізніше).\n",
        "\n",
        "Вилучіть значення з обох масивів і обчисліть коеф. кореляції Пірсона з допомогою `numpy` для кількості візитів і суми покупок без записів-викидів. Виведіть результат на екран, побудуйте діаграму розсіювання і проаналізуйте результат: що можемо сказати про залежність в даних?"
      ]
    },
    {
      "cell_type": "code",
      "execution_count": 91,
      "metadata": {
        "id": "Yj3Yfaf7UBbc"
      },
      "outputs": [
        {
          "data": {
            "image/png": "[encoded data removed]",
            "text/plain": [
              "<Figure size 800x600 with 1 Axes>"
            ]
          },
          "metadata": {},
          "output_type": "display_data"
        },
        {
          "name": "stdout",
          "output_type": "stream",
          "text": [
            "The correlation remains negative but offers a clearer view of the underlying trend.\n"
          ]
        }
      ],
      "source": [
        "threshold = np.mean(sum_purchases) + 2 * np.std(sum_purchases, ddof=1)\n",
        "clean_sum_purchases = []\n",
        "clean_visits = []\n",
        "\n",
        "for i, _ in enumerate(sum_purchases):\n",
        "    if sum_purchases[i] < threshold:\n",
        "        clean_sum_purchases.append(sum_purchases[i])\n",
        "        clean_visits.append(visits[i])\n",
        "\n",
        "# Convert lists to arrays for numerical operations\n",
        "clean_visits = np.array(clean_visits)\n",
        "clean_sum_purchases = np.array(clean_sum_purchases)\n",
        "\n",
        "correlation = np.corrcoef(clean_visits, clean_sum_purchases)[0, 1]\n",
        "\n",
        "plt.figure(figsize=(8, 6))\n",
        "plt.scatter(clean_visits, clean_sum_purchases, color='purple', label='Data Points')\n",
        "plt.title(f'Correlation After Outlier Removal\\nPearson r = {correlation:.4f}')\n",
        "plt.xlabel('Visits')\n",
        "plt.ylabel('Sum of Purchases')\n",
        "\n",
        "# Regression line\n",
        "m, b = np.polyfit(clean_visits, clean_sum_purchases, 1)\n",
        "plt.plot(clean_visits, m * clean_visits + b, color='red', linestyle='--', label='Regression Line')\n",
        "\n",
        "plt.legend()\n",
        "plt.grid(True)\n",
        "plt.tight_layout()\n",
        "plt.show()\n",
        "\n",
        "print(f\"The correlation remains negative but offers a clearer view of the underlying trend.\")\n"
      ]
    }
  ],
  "metadata": {
    "colab": {
      "provenance": []
    },
    "kernelspec": {
      "display_name": ".venv",
      "language": "python",
      "name": "python3"
    },
    "language_info": {
      "codemirror_mode": {
        "name": "ipython",
        "version": 3
      },
      "file_extension": ".py",
      "mimetype": "text/x-python",
      "name": "python",
      "nbconvert_exporter": "python",
      "pygments_lexer": "ipython3",
      "version": "3.10.11"
    }
  },
  "nbformat": 4,
  "nbformat_minor": 0
}
